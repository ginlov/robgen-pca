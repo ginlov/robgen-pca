{
 "cells": [
  {
   "cell_type": "code",
   "execution_count": 1,
   "id": "2ff1d545-685b-4242-a5cf-2dc5eed6f185",
   "metadata": {},
   "outputs": [],
   "source": [
    "import pandas as pd"
   ]
  },
  {
   "cell_type": "code",
   "execution_count": 2,
   "id": "ecff5d55-e26b-4b51-9665-fc4b37565c7b",
   "metadata": {},
   "outputs": [],
   "source": [
    "data = pd.read_excel(\"/Users/leo/result_PCA.xlsx\")"
   ]
  },
  {
   "cell_type": "code",
   "execution_count": 3,
   "id": "b387b80e-d409-44e3-95fa-eff0837efbed",
   "metadata": {},
   "outputs": [
    {
     "data": {
      "text/html": [
       "<div>\n",
       "<style scoped>\n",
       "    .dataframe tbody tr th:only-of-type {\n",
       "        vertical-align: middle;\n",
       "    }\n",
       "\n",
       "    .dataframe tbody tr th {\n",
       "        vertical-align: top;\n",
       "    }\n",
       "\n",
       "    .dataframe thead th {\n",
       "        text-align: right;\n",
       "    }\n",
       "</style>\n",
       "<table border=\"1\" class=\"dataframe\">\n",
       "  <thead>\n",
       "    <tr style=\"text-align: right;\">\n",
       "      <th></th>\n",
       "      <th>num components</th>\n",
       "      <th>L2 loss</th>\n",
       "      <th>g value 0.01</th>\n",
       "      <th>g value 0.05</th>\n",
       "      <th>g value 0.1</th>\n",
       "      <th>bound 3_rest</th>\n",
       "      <th>bound 4_rest</th>\n",
       "      <th>bound 5_rest</th>\n",
       "      <th>bound3</th>\n",
       "      <th>bound4</th>\n",
       "      <th>bound5</th>\n",
       "    </tr>\n",
       "  </thead>\n",
       "  <tbody>\n",
       "    <tr>\n",
       "      <th>0</th>\n",
       "      <td>100</td>\n",
       "      <td>0.001487</td>\n",
       "      <td>0.078251</td>\n",
       "      <td>0.070593</td>\n",
       "      <td>0.067274</td>\n",
       "      <td>0.047736</td>\n",
       "      <td>0.000521</td>\n",
       "      <td>0.000012</td>\n",
       "      <td>0.116496</td>\n",
       "      <td>0.069281</td>\n",
       "      <td>0.067286</td>\n",
       "    </tr>\n",
       "    <tr>\n",
       "      <th>1</th>\n",
       "      <td>500</td>\n",
       "      <td>0.001447</td>\n",
       "      <td>0.070091</td>\n",
       "      <td>0.063233</td>\n",
       "      <td>0.060262</td>\n",
       "      <td>0.038954</td>\n",
       "      <td>0.000526</td>\n",
       "      <td>0.000012</td>\n",
       "      <td>0.100663</td>\n",
       "      <td>0.062234</td>\n",
       "      <td>0.060274</td>\n",
       "    </tr>\n",
       "    <tr>\n",
       "      <th>2</th>\n",
       "      <td>1000</td>\n",
       "      <td>0.001440</td>\n",
       "      <td>0.068931</td>\n",
       "      <td>0.062187</td>\n",
       "      <td>0.059264</td>\n",
       "      <td>0.037101</td>\n",
       "      <td>0.000526</td>\n",
       "      <td>0.000012</td>\n",
       "      <td>0.097806</td>\n",
       "      <td>0.061231</td>\n",
       "      <td>0.059277</td>\n",
       "    </tr>\n",
       "    <tr>\n",
       "      <th>3</th>\n",
       "      <td>300</td>\n",
       "      <td>0.001455</td>\n",
       "      <td>0.071830</td>\n",
       "      <td>0.064802</td>\n",
       "      <td>0.061756</td>\n",
       "      <td>0.041192</td>\n",
       "      <td>0.000525</td>\n",
       "      <td>0.000012</td>\n",
       "      <td>0.104403</td>\n",
       "      <td>0.063736</td>\n",
       "      <td>0.061768</td>\n",
       "    </tr>\n",
       "  </tbody>\n",
       "</table>\n",
       "</div>"
      ],
      "text/plain": [
       "   num components   L2 loss  g value 0.01  g value 0.05  g value 0.1  \\\n",
       "0             100  0.001487      0.078251      0.070593     0.067274   \n",
       "1             500  0.001447      0.070091      0.063233     0.060262   \n",
       "2            1000  0.001440      0.068931      0.062187     0.059264   \n",
       "3             300  0.001455      0.071830      0.064802     0.061756   \n",
       "\n",
       "   bound 3_rest  bound 4_rest  bound 5_rest    bound3    bound4    bound5  \n",
       "0      0.047736      0.000521      0.000012  0.116496  0.069281  0.067286  \n",
       "1      0.038954      0.000526      0.000012  0.100663  0.062234  0.060274  \n",
       "2      0.037101      0.000526      0.000012  0.097806  0.061231  0.059277  \n",
       "3      0.041192      0.000525      0.000012  0.104403  0.063736  0.061768  "
      ]
     },
     "execution_count": 3,
     "metadata": {},
     "output_type": "execute_result"
    }
   ],
   "source": [
    "data"
   ]
  },
  {
   "cell_type": "code",
   "execution_count": 4,
   "id": "e4c9771f-1175-4049-a3a8-c75fb1fc2b3f",
   "metadata": {},
   "outputs": [
    {
     "data": {
      "text/plain": [
       "array([1.15654984e-05, 1.22622150e-05, 1.23271100e-05, 1.21414490e-05])"
      ]
     },
     "execution_count": 4,
     "metadata": {},
     "output_type": "execute_result"
    }
   ],
   "source": [
    "data[\"bound 5_rest\"].values"
   ]
  },
  {
   "cell_type": "code",
   "execution_count": null,
   "id": "1b3ee5c5-bc4d-4477-9204-837f46b1252a",
   "metadata": {},
   "outputs": [],
   "source": []
  }
 ],
 "metadata": {
  "kernelspec": {
   "display_name": "Python 3 (ipykernel)",
   "language": "python",
   "name": "python3"
  },
  "language_info": {
   "codemirror_mode": {
    "name": "ipython",
    "version": 3
   },
   "file_extension": ".py",
   "mimetype": "text/x-python",
   "name": "python",
   "nbconvert_exporter": "python",
   "pygments_lexer": "ipython3",
   "version": "3.10.12"
  }
 },
 "nbformat": 4,
 "nbformat_minor": 5
}
